{
 "cells": [
  {
   "cell_type": "code",
   "execution_count": null,
   "id": "1b0ebead-1953-4230-a08c-3ba06ec3454b",
   "metadata": {},
   "outputs": [],
   "source": [
    "import numpy as np\n",
    "import matplotlib.pyplot as pl\n",
    "import matplotlib.animation as an\n",
    "import cv2 as cv\n",
    "import ipywidgets as iw\n",
    "\n",
    "%matplotlib widget"
   ]
  },
  {
   "cell_type": "code",
   "execution_count": null,
   "id": "8a661221-9048-4243-85be-6a0be51ba04f",
   "metadata": {},
   "outputs": [],
   "source": [
    "def KS ():\n",
    "\n",
    "    fig = pl.figure()\n",
    "\n",
    "    fig.canvas.toolbar_visible = False\n",
    "    fig.canvas.header_visible = False\n",
    "    fig.canvas.footer_visible = False\n",
    "\n",
    "    return fig"
   ]
  },
  {
   "cell_type": "code",
   "execution_count": null,
   "id": "036c637d-4c82-49de-ac68-334c699de5b3",
   "metadata": {},
   "outputs": [],
   "source": [
    "def Show (img, map = 'gray'):\n",
    "    KS()\n",
    "    return pl.imshow (img, cmap = map)"
   ]
  },
  {
   "cell_type": "code",
   "execution_count": null,
   "id": "31c51331-b821-482c-8796-b15bf322b6a0",
   "metadata": {},
   "outputs": [],
   "source": [
    "def Test ():\n",
    "\n",
    "    d = 10\n",
    "    m = 10 * d\n",
    "    n = 10 * d\n",
    "\n",
    "    u = np.zeros ((m, n))\n",
    "    m2 = m // 2\n",
    "    n2 = n // 2\n",
    "\n",
    "    u [m2 - d : m2 + d, n2 - d : n2 + d] = 1\n",
    "    u [-1, :] = 1\n",
    "\n",
    "    return u"
   ]
  },
  {
   "cell_type": "code",
   "execution_count": null,
   "id": "d1aa7276-6846-49f3-b23f-31a4135aad3b",
   "metadata": {},
   "outputs": [],
   "source": [
    "Show (Test())"
   ]
  },
  {
   "cell_type": "code",
   "execution_count": null,
   "id": "53178083-606f-44a5-af51-c824e57d310b",
   "metadata": {},
   "outputs": [],
   "source": [
    "def Laplace (u):\n",
    "\n",
    "    c = u [1 : -1, 1 : -1]\n",
    "    w = u [  : -2, 1 : -1]\n",
    "    e = u [2 :   , 1 : -1]\n",
    "    s = u [1 : -1,   : -2]\n",
    "    n = u [1 : -1, 2 :   ]\n",
    "\n",
    "    return w + e + s + n - 4 * c"
   ]
  },
  {
   "cell_type": "code",
   "execution_count": null,
   "id": "013cee59-845c-479e-a47e-9cef7c914d04",
   "metadata": {},
   "outputs": [],
   "source": [
    "def Show2 (img1, img2, map = 'gray'):\n",
    "    \n",
    "    KS()\n",
    "    pl.subplot (1, 2, 1); res1 = pl.imshow (img1, cmap = map)\n",
    "    pl.subplot (1, 2, 2); res2 = pl.imshow (img2, cmap = map)\n",
    "\n",
    "    return res1, res2"
   ]
  },
  {
   "cell_type": "code",
   "execution_count": null,
   "id": "de1252a3-d83e-45bc-bff8-c8287be781b1",
   "metadata": {},
   "outputs": [],
   "source": [
    "def LaplaceTest (u):\n",
    "\n",
    "    du = Laplace (u)\n",
    "    Show2 (u, du)\n",
    "\n",
    "LaplaceTest (Test())"
   ]
  },
  {
   "cell_type": "code",
   "execution_count": null,
   "id": "2e15d75f-eea2-4a51-899d-0a017168024f",
   "metadata": {},
   "outputs": [],
   "source": [
    "c = 0.25\n",
    "\n",
    "fig = KS()\n",
    "u = Test()\n",
    "img = pl.imshow (u, cmap = 'jet', vmin = 0, vmax = 1)\n",
    "\n",
    "def Step (i):\n",
    "    du = Laplace (u)\n",
    "    u [1 : -1, 1 : -1] += c * du\n",
    "    img.set_data (u)\n",
    "\n",
    "anim = an.FuncAnimation (fig, Step, cache_frame_data = False, interval = 0)"
   ]
  },
  {
   "cell_type": "code",
   "execution_count": null,
   "id": "d6344d24-c35f-4731-85c6-b62c42aaa0fc",
   "metadata": {},
   "outputs": [],
   "source": [
    "anim.pause()\n",
    "del anim, fig, img, c, u"
   ]
  },
  {
   "cell_type": "code",
   "execution_count": null,
   "id": "93a34be1-2bd5-4ec8-a663-65d30b4955a8",
   "metadata": {},
   "outputs": [],
   "source": [
    "def TestImage ():\n",
    "\n",
    "    rgb = cv.imread ('Images/lenna-blurred.jpg')\n",
    "    gray = cv.cvtColor (rgb, cv.COLOR_BGR2GRAY) / 255.0\n",
    "\n",
    "    return gray\n",
    "\n",
    "Show (TestImage())"
   ]
  },
  {
   "cell_type": "code",
   "execution_count": null,
   "id": "6a460aa5-75ef-41b7-b54f-7d6a48eafb3d",
   "metadata": {},
   "outputs": [],
   "source": [
    "def Sharpening ():\n",
    "\n",
    "    u0 = TestImage()\n",
    "    u1 = np.copy (u0)\n",
    "    dummy, img = Show2 (u0, u1)\n",
    "\n",
    "    def Callback (c):\n",
    "    \n",
    "        du = Laplace (u0)\n",
    "        u = u0 [1 : -1, 1: -1] - c * du\n",
    "        img.set_data (u)\n",
    "\n",
    "    sl = iw.FloatSlider (min = -10, max = 10, step = 0.01, value = 0)\n",
    "    iw.interact (Callback, c = sl)\n",
    "\n",
    "Sharpening()"
   ]
  },
  {
   "cell_type": "code",
   "execution_count": null,
   "id": "a9f867df-1e9e-4016-b337-5980e72e1a5d",
   "metadata": {},
   "outputs": [],
   "source": []
  }
 ],
 "metadata": {
  "kernelspec": {
   "display_name": "Python 3 (ipykernel)",
   "language": "python",
   "name": "python3"
  },
  "language_info": {
   "codemirror_mode": {
    "name": "ipython",
    "version": 3
   },
   "file_extension": ".py",
   "mimetype": "text/x-python",
   "name": "python",
   "nbconvert_exporter": "python",
   "pygments_lexer": "ipython3",
   "version": "3.13.2"
  }
 },
 "nbformat": 4,
 "nbformat_minor": 5
}
